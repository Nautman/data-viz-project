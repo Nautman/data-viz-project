{
 "cells": [
  {
   "cell_type": "code",
   "execution_count": 1,
   "metadata": {},
   "outputs": [],
   "source": [
    "import pandas as pd"
   ]
  },
  {
   "cell_type": "markdown",
   "metadata": {},
   "source": [
    "### Readability and Quality of Dataset Test"
   ]
  },
  {
   "cell_type": "code",
   "execution_count": 16,
   "metadata": {},
   "outputs": [
    {
     "name": "stdout",
     "output_type": "stream",
     "text": [
      "Value for Albania in 2022 for Solid fossil fuels:\n",
      "       geo  TIME_PERIOD                siec  OBS_VALUE\n",
      "0  Albania         2022  Solid fossil fuels    143.435\n"
     ]
    }
   ],
   "source": [
    "file = \"2022_EU_energy_consumption.csv\" \n",
    "energy_data = pd.read_csv(file)\n",
    "\n",
    "# Checking first value of csv matches - and also the number\n",
    "# Filter the data for Albania, 2022, and Solid fossil fuels\n",
    "albania_solid_fossil_fuels = energy_data[\n",
    "    (energy_data['geo'] == 'Albania') &\n",
    "    (energy_data['TIME_PERIOD'] == 2022) &\n",
    "    (energy_data['siec'] == 'Solid fossil fuels')\n",
    "]\n",
    "\n",
    "# Check the value\n",
    "print(\"Value for Albania in 2022 for Solid fossil fuels:\")\n",
    "print(albania_solid_fossil_fuels[['geo', 'TIME_PERIOD', 'siec', 'OBS_VALUE']])"
   ]
  },
  {
   "cell_type": "code",
   "execution_count": 15,
   "metadata": {},
   "outputs": [
    {
     "name": "stdout",
     "output_type": "stream",
     "text": [
      "All 27 EU countries have values for all unique energy sources.\n"
     ]
    }
   ],
   "source": [
    "# List of EU countries (27 countries)\n",
    "eu_countries = [\n",
    "    \"Austria\", \"Belgium\", \"Bulgaria\", \"Croatia\", \"Cyprus\", \"Czechia\", \"Denmark\", \n",
    "    \"Estonia\", \"Finland\", \"France\", \"Germany\", \"Greece\", \"Hungary\", \"Ireland\", \n",
    "    \"Italy\", \"Latvia\", \"Lithuania\", \"Luxembourg\", \"Malta\", \"Netherlands\", \n",
    "    \"Poland\", \"Portugal\", \"Romania\", \"Slovakia\", \"Slovenia\", \"Spain\", \"Sweden\"\n",
    "]\n",
    "\n",
    "# Get unique energy sources\n",
    "unique_sources = energy_data['siec'].unique()\n",
    "\n",
    "# Check if all countries have values for each energy source\n",
    "missing_data = []\n",
    "\n",
    "for country in eu_countries:\n",
    "    for source in unique_sources:\n",
    "        subset = energy_data[(energy_data['geo'] == country) & (energy_data['siec'] == source)]\n",
    "        if subset.empty:\n",
    "            missing_data.append((country, source))\n",
    "\n",
    "# Display results\n",
    "if missing_data:\n",
    "    print(\"The following country-energy source combinations are missing:\")\n",
    "    for country, source in missing_data:\n",
    "        print(f\"Country: {country}, Energy Source: {source}\")\n",
    "else:\n",
    "    print(\"All 27 EU countries have values for all unique energy sources.\")\n"
   ]
  }
 ],
 "metadata": {
  "kernelspec": {
   "display_name": "Python 3",
   "language": "python",
   "name": "python3"
  },
  "language_info": {
   "codemirror_mode": {
    "name": "ipython",
    "version": 3
   },
   "file_extension": ".py",
   "mimetype": "text/x-python",
   "name": "python",
   "nbconvert_exporter": "python",
   "pygments_lexer": "ipython3",
   "version": "3.11.3"
  }
 },
 "nbformat": 4,
 "nbformat_minor": 2
}
